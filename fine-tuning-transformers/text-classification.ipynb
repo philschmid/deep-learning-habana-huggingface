{
 "cells": [
  {
   "cell_type": "markdown",
   "metadata": {},
   "source": [
    "# Fine-tuning BERT with Hugging Face Transformers and Optimum running on the Habana Gaudi Instances\n",
    "\n",
    "In this blog, you will learn how to fine-tune BERT for multi-class text-classification using a Habana Gaudi instance on AWS to save 40% cost and be 2x faster then comparable GPUs.\n",
    "We will use the Hugging Faces Transformers, Optimum and Datasets library to fine-tune a pre-trained transformer for multi-class text classification. In particular, we will fine-tune BERT-Large using the Banking77 dataset. Before we get started, we need to set up the deep learning environment. \n",
    "\n",
    "You will learn how to:\n",
    "\n",
    "1. [Setup Habana Gaudi instance](#1-setup-habana-gaudi-instance)\n",
    "2. [Load and process the dataset](#2-load-and-process-the-dataset)\n",
    "3. [Create a `GaudiTrainer` and an run single HPU fine-tuning](#3-create-a-gauditrainer-and-an-run-single-hpu-fine-tuning)\n",
    "4. [Run distributed data parallel training with `GaudiTrainer`](#4-run-distributed-data-parallel-training-with-gauditrainer)\n",
    "5. [Cost performance benefits of Habana Gaudi1 on AWS](#5-cost-performance-benefits-of-habana-gaudi1-on-aws)\n",
    "\n",
    "\n",
    "### Requirements\n",
    "\n",
    "Before we can start make sure you have met the following requirements\n",
    "\n",
    "* AWS Account with quota for [DL1 instance type](https://aws.amazon.com/ec2/instance-types/dl1/)\n",
    "* [AWS CLI](https://docs.aws.amazon.com/cli/latest/userguide/getting-started-install.html) installed\n",
    "* AWS IAM user [configured in CLI](https://docs.aws.amazon.com/cli/latest/userguide/cli-chap-configure.html) with permission to create and manage ec2 instances\n",
    "\n",
    "### Helpful Resources\n",
    "\n",
    "* [Optimum Habana Documentation](https://github.com/huggingface/optimum-habana)\n",
    "\n",
    "## 1. Setup Habana Gaudi instance\n",
    "\n",
    "In this example are we going to use Habana Gaudi on AWS using the DL1 instance. We already have created a blog post in the past on how to [Setup Deep Learning environment for Hugging Face Transformers with Habana Gaudi on AWS](https://www.philschmid.de/getting-started-habana-gaudi). If you haven't have read this blog post, please read it first and go through the steps on how to setup the environment. \n",
    "Or if you feel comfortable you can use the `start_instance.sh` in the root of the repository to create your DL1 instance and the continue at step  [4. Use Jupyter Notebook/Lab via ssh](https://www.philschmid.de/getting-started-habana-gaudi#4-use-jupyter-notebooklab-via-ssh) in the Setup blog post.\n",
    "\n",
    "1. run habana docker container an mount current directory\n",
    "```bash\n",
    "docker run -ti --runtime=habana -e HABANA_VISIBLE_DEVICES=all -e OMPI_MCA_btl_vader_single_copy_mechanism=none --cap-add=sys_nice --net=host --ipc=host -v $(pwd):/home/ubuntu/dev --workdir=/home/ubuntu/dev vault.habana.ai/gaudi-docker/1.4.1/ubuntu20.04/habanalabs/pytorch-installer-1.10.2:1.4.1-11\n",
    "```\n",
    "2. install juptyer\n",
    "```bash\n",
    "pip install jupyter\n",
    "```\n",
    "\n",
    "3. clone repository\n",
    "```bash\n",
    "git clone https://github.com/philschmid/deep-learning-habana-huggingface.git\n",
    "cd fine-tuning\n",
    "```\n",
    "\n",
    "4. run jupyter notebook\n",
    "```bash\n",
    "jupyter notebook --allow-root\n",
    "#         http://localhost:8888/?token=f8d00db29a6adc03023413b7f234d110fe0d24972d7ae65e\n",
    "```\n",
    "4. continue here\n",
    "\n",
    "_**NOTE**: The following steps assume that the code/cells are running on a gaudi instance with access to HPUs_\n",
    "\n",
    "As first lets make sure we have access to the HPUs."
   ]
  },
  {
   "cell_type": "code",
   "execution_count": 1,
   "metadata": {},
   "outputs": [
    {
     "name": "stdout",
     "output_type": "stream",
     "text": [
      "device available:True\n",
      "device_count:8\n"
     ]
    }
   ],
   "source": [
    "import habana_frameworks.torch.core as htcore\n",
    "\n",
    "print(f\"device available:{htcore.is_available()}\")\n",
    "print(f\"device_count:{htcore.get_device_count()}\")"
   ]
  },
  {
   "cell_type": "markdown",
   "metadata": {},
   "source": [
    "next lets install our Hugging Face dependencies and `git-lfs`."
   ]
  },
  {
   "cell_type": "code",
   "execution_count": null,
   "metadata": {},
   "outputs": [],
   "source": [
    "!pip install transformers datasets tensorboard matplotlib pandas sklearn\n",
    "!pip install git+https://github.com/huggingface/optimum-habana.git # workaround until release of optimum-habana"
   ]
  },
  {
   "cell_type": "code",
   "execution_count": null,
   "metadata": {},
   "outputs": [],
   "source": [
    "# we will use git-lfs to upload models and artifacts to the hub.\n",
    "#! sudo apt-get install git-lfs\n",
    "!apt-get install git-lfs"
   ]
  },
  {
   "cell_type": "markdown",
   "metadata": {},
   "source": [
    "to finish our setup lets log into the [Hugging Face Hub](https://huggingface.co/models) to push our model artifacts, logs and metrics during training and afterwards to the hub. \n",
    "\n",
    "_To be able to push our model to the Hub, you need to register on the [Hugging Face](https://huggingface.co/join)._\n",
    "\n",
    "We will use the `notebook_login` util from the `huggingface_hub` package to log into our account. You can get your token in the settings at [Access Tokens](https://huggingface.co/settings/tokens)"
   ]
  },
  {
   "cell_type": "code",
   "execution_count": null,
   "metadata": {},
   "outputs": [],
   "source": [
    "from huggingface_hub import notebook_login\n",
    "\n",
    "notebook_login()\n"
   ]
  },
  {
   "cell_type": "markdown",
   "metadata": {},
   "source": [
    "## 2. Load and process the dataset\n",
    "\n",
    "As Dataset we will use the [AmazonScience/massive](https://huggingface.co/datasets/AmazonScience/massive) a multilingual intent(text)-classification dataset. The dataset contains over 1M utterances across 51 languages with annotations for the Natural Language Understanding tasks of intent prediction and slot annotation.\n",
    "\n",
    "We are going to use the:\n",
    "* English - United States (en-US)\n",
    "* German - Germany (de-DE)\n",
    "* French - France (fr-FR)\n",
    "* Italian - Italy (it-IT)\n",
    "* Portuguese - Portugal (pt-PT)\n",
    "* Spanish - Spain (es-ES)\n",
    "* Dutch - Netherlands (nl-NL)\n",
    "\n",
    "splits. The dataset will have ~80 000 datapoints for training and ~14 000 for evaluation equally split across the different languages.\n",
    "\n",
    "The Model which we will fine-tune is [xlm-roberta-large](https://huggingface.co/xlm-roberta-large) a multilingual RoBERTa model. It was pre-trained on 2.5TB of filtered CommonCrawl data containing 100 languages. "
   ]
  },
  {
   "cell_type": "code",
   "execution_count": 2,
   "metadata": {},
   "outputs": [],
   "source": [
    "model_id = \"xlm-roberta-large\"\n",
    "gaudi_config_id= \"Habana/roberta-large\" # more here: https://huggingface.co/Habana\n",
    "dataset_id = \"AmazonScience/massive\"\n",
    "dataset_configs=[\"en-US\",\"de-DE\",\"fr-FR\",\"it-IT\",\"pt-PT\",\"es-ES\",\"nl-NL\"]\n",
    "\n",
    "seed=33\n",
    "repository_id = \"habana-xlm-r-large-amazon-massive\""
   ]
  },
  {
   "cell_type": "markdown",
   "metadata": {},
   "source": [
    "You can change these configuration to your needs, e.g. the `model_id` to another BERT-like model for a different language, e.g. `BERT-Large`. \n",
    "\n",
    "_**NOTE:** Not all 100+ transformers architectures are currently support by `optimum-habana` you can find a list of supported archtiectures in the [validated models](https://github.com/huggingface/optimum-habana#validated-models) section_"
   ]
  },
  {
   "cell_type": "markdown",
   "metadata": {},
   "source": [
    "We use the `datasets` library to download and preprocess our dataset. As a frist we will load a 7 different configurations and remove the unnecessary features/columns and the concatenate them into a single dataset. "
   ]
  },
  {
   "cell_type": "code",
   "execution_count": null,
   "metadata": {},
   "outputs": [],
   "source": [
    "from datasets import load_dataset, concatenate_datasets, DatasetDict\n",
    "\n",
    "# the columns we want to keep in the dataset\n",
    "keep_columns = [\"utt\", \"scenario\"]\n",
    "\n",
    "# process individuell datasets\n",
    "proc_lan_dataset_list=[]\n",
    "for lang in dataset_configs:\n",
    "    # load dataset for language\n",
    "    lang_ds = load_dataset(dataset_id, lang)\n",
    "    # only keep the 'utt' & 'scenario column\n",
    "    lang_ds = lang_ds.remove_columns([col for col in lang_ds[\"train\"].column_names if col not in keep_columns])  \n",
    "    # rename the columns to match transformers schema\n",
    "    lang_ds = lang_ds.rename_column(\"utt\", \"text\")\n",
    "    lang_ds = lang_ds.rename_column(\"scenario\", \"label\")\n",
    "    proc_lan_dataset_list.append(lang_ds)\n",
    "    \n",
    "# concat single splits into one\n",
    "train_dataset = concatenate_datasets([ds[\"train\"] for ds in proc_lan_dataset_list])\n",
    "eval_dataset = concatenate_datasets([ds[\"validation\"] for ds in proc_lan_dataset_list])\n",
    "# create datset dict for easier processing\n",
    "dataset = DatasetDict(dict(train=train_dataset,validation=eval_dataset))\n",
    "print(dataset)"
   ]
  },
  {
   "cell_type": "markdown",
   "metadata": {},
   "source": [
    "Before we prepare the dataset for training. Lets take a quick look at the class distribution of the dataset."
   ]
  },
  {
   "cell_type": "code",
   "execution_count": 4,
   "metadata": {},
   "outputs": [
    {
     "data": {
      "text/plain": [
       "array([[<AxesSubplot:title={'center':'label'}>]], dtype=object)"
      ]
     },
     "execution_count": 4,
     "metadata": {},
     "output_type": "execute_result"
    },
    {
     "data": {
      "image/png": "[encoded data removed]",
      "text/plain": [
       "<Figure size 432x288 with 1 Axes>"
      ]
     },
     "metadata": {
      "needs_background": "light"
     },
     "output_type": "display_data"
    }
   ],
   "source": [
    "import pandas as pd\n",
    "\n",
    "df = dataset[\"train\"].to_pandas()\n",
    "\n",
    "df.hist()"
   ]
  },
  {
   "cell_type": "markdown",
   "metadata": {},
   "source": [
    "To train our model we need to convert our \"Natural Language\" to token IDs. This is done by a 🤗 Transformers Tokenizer which will tokenize the inputs (including converting the tokens to their corresponding IDs in the pretrained vocabulary). If you are not sure what this means check out [chapter 6](https://huggingface.co/course/chapter6/1?fw=tf) of the Hugging Face Course.\n"
   ]
  },
  {
   "cell_type": "code",
   "execution_count": 5,
   "metadata": {},
   "outputs": [],
   "source": [
    "from transformers import AutoTokenizer\n",
    "\n",
    "tokenizer = AutoTokenizer.from_pretrained(model_id)"
   ]
  },
  {
   "cell_type": "markdown",
   "metadata": {},
   "source": [
    "Additionally we add the `truncation=True` and `padding=max_length` to align the length and truncate texts that are bigger than the maximum size allowed by the model. "
   ]
  },
  {
   "cell_type": "code",
   "execution_count": null,
   "metadata": {},
   "outputs": [],
   "source": [
    "def process(examples):\n",
    "    tokenized_inputs = tokenizer(\n",
    "       examples[\"text\"], padding=\"max_length\", truncation=True\n",
    "    )\n",
    "    return tokenized_inputs\n",
    "\n",
    "tokenized_datasets = dataset.map(process, batched=True)\n",
    "tokenized_datasets[\"train\"].features"
   ]
  },
  {
   "cell_type": "markdown",
   "metadata": {},
   "source": [
    "Now that our `dataset` is processed, we can download the pre-trained model and fine-tune it."
   ]
  },
  {
   "cell_type": "markdown",
   "metadata": {},
   "source": [
    "## 3. Create a `GaudiTrainer` and an run single HPU fine-tuning\n",
    "\n",
    "Normally you would use the [Trainer](https://huggingface.co/docs/transformers/v4.19.4/en/main_classes/trainer#transformers.Trainer) and [TrainingArguments](https://huggingface.co/docs/transformers/v4.19.4/en/main_classes/trainer#transformers.TrainingArguments) to fine-tune a pytorch-based transformer model. Since we are using the `optimum-habana` library, we can use the [GaudiTrainer]() and [GaudiTrainingArguments]() instead. The `GaudiTrainer` is a wrapper around the [Trainer](https://huggingface.co/docs/transformers/v4.19.4/en/main_classes/trainer#transformers.Trainer) and [TrainingArguments](https://huggingface.co/docs/transformers/v4.19.4/en/main_classes/trainer#transformers.TrainingArguments) that allows you to fine-tune a transformer model on a gaudi instance, with a similar API to the [Trainer](https://huggingface.co/docs/transformers/v4.19.4/en/main_classes/trainer#transformers.Trainer) and [TrainingArguments](https://huggingface.co/docs/transformers/v4.19.4/en/main_classes/trainer#transformers.TrainingArguments) classes. Below you see how easy it is to migrate from the [Trainer](https://huggingface.co/docs/transformers/v4.19.4/en/main_classes/trainer#transformers.Trainer) and [TrainingArguments](https://huggingface.co/docs/transformers/v4.19.4/en/main_classes/trainer#transformers.TrainingArguments) classes to the [GaudiTrainer]() and [GaudiTrainingArguments]() classes.\n",
    "\n",
    "```diff\n",
    "-from transformers import Trainer, TrainingArguments \n",
    "+from optimum.habana import GaudiTrainer, GaudiTrainingArguments\n",
    "\n",
    "# define the training arguments\n",
    "-training_args = GaudiTrainingArguments(\n",
    "+training_args = TrainingArguments(\n",
    "+  use_habana=True,\n",
    "+  use_lazy_mode=True,\n",
    "+  gaudi_config_name=path_to_gaudi_config,\n",
    "  ...\n",
    ")\n",
    "\n",
    "# Initialize our Trainer\n",
    "-trainer = Trainer(\n",
    "+trainer = GaudiTrainer(\n",
    "    model=model,\n",
    "    args=training_args,\n",
    "    train_dataset=train_dataset\n",
    "    ... # other arguments\n",
    ")\n",
    "```"
   ]
  },
  {
   "cell_type": "markdown",
   "metadata": {},
   "source": [
    "Before we create our `GaudiTrainer` we first need to define a `compute_metrics` function to evaluate our model on the test set. This function will be used during the training process to compute the `accuracy` & `f1` of our model."
   ]
  },
  {
   "cell_type": "code",
   "execution_count": 7,
   "metadata": {},
   "outputs": [],
   "source": [
    "from datasets import load_metric\n",
    "import numpy as np\n",
    "\n",
    "# define metrics and metrics function\n",
    "f1_metric = load_metric(\"f1\")\n",
    "accuracy_metric = load_metric( \"accuracy\")\n",
    "\n",
    "def compute_metrics(eval_pred):\n",
    "    predictions, labels = eval_pred\n",
    "    predictions = np.argmax(predictions, axis=1)\n",
    "    acc = accuracy_metric.compute(predictions=predictions, references=labels)\n",
    "    f1 = f1_metric.compute(predictions=predictions, references=labels, average=\"micro\")\n",
    "    return {\n",
    "        \"accuracy\": acc[\"accuracy\"],\n",
    "        \"f1\": f1[\"f1\"],\n",
    "    }"
   ]
  },
  {
   "cell_type": "markdown",
   "metadata": {},
   "source": [
    "Hyperparameter Definition, Model Loading"
   ]
  },
  {
   "cell_type": "code",
   "execution_count": null,
   "metadata": {},
   "outputs": [],
   "source": [
    "from transformers import AutoModelForSequenceClassification,DataCollatorWithPadding\n",
    "from optimum.habana import GaudiTrainer, GaudiTrainingArguments\n",
    "from huggingface_hub import HfFolder\n",
    "\n",
    "# create label2id, id2label dicts for nice outputs for the model\n",
    "labels = tokenized_datasets[\"train\"].features[\"label\"].names\n",
    "num_labels = len(labels)\n",
    "label2id, id2label = dict(), dict()\n",
    "for i, label in enumerate(labels):\n",
    "    label2id[label] = str(i)\n",
    "    id2label[str(i)] = label\n",
    "\n",
    "\n",
    "# define training args\n",
    "training_args = GaudiTrainingArguments(\n",
    "    output_dir=repository_id,\n",
    "    use_habana=True,\n",
    "    use_lazy_mode=True,\n",
    "    gaudi_config_name=gaudi_config_id,\n",
    "    num_train_epochs=5,\n",
    "    per_device_train_batch_size=8,\n",
    "    per_device_eval_batch_size=8,\n",
    ")\n",
    "\n",
    "# define model\n",
    "model = AutoModelForSequenceClassification.from_pretrained(\n",
    "    model_id,\n",
    "    num_labels=num_labels, \n",
    "    id2label=id2label,\n",
    "    label2id=label2id,\n",
    ")\n",
    "\n",
    "# create Trainer\n",
    "trainer = GaudiTrainer(\n",
    "    model=model,\n",
    "    args=training_args,\n",
    "    train_dataset=tokenized_datasets[\"train\"],\n",
    "    eval_dataset=tokenized_datasets[\"validation\"],\n",
    "    tokenizer=tokenizer,\n",
    "    compute_metrics=compute_metrics,\n",
    ")\n",
    "# start training on 1x HPU\n",
    "trainer.train()\n",
    "# evaluate model\n",
    "trainer.evaluate(eval_dataset=tokenized_datasets[\"validation\"])"
   ]
  },
  {
   "cell_type": "markdown",
   "metadata": {},
   "source": [
    "## 4. Run distributed data parallel training with `GaudiTrainer`\n",
    "\n",
    "running the training only on a single HPU-core takes way to long (5h). Luckily with `DL1` instance we have 8 available HPU-cores meaning we can leverage distributed training. \n",
    "To run our training as distributed training we need to create a training script, which can be used with multiprocessing to run on all HPUs. \n",
    "We have created a `scripts/train.py` which contains all the previous steps of the example so far. To executed our distributed training we use the `DistributedRunner` runner from `optimum-habana` alternatively you could check-out the [gaudi_spawn.py](https://github.com/huggingface/optimum-habana/blob/main/examples/gaudi_spawn.py) in the [optimum-habana](https://github.com/huggingface/optimum-habana) repository.\n"
   ]
  },
  {
   "cell_type": "code",
   "execution_count": null,
   "metadata": {},
   "outputs": [],
   "source": [
    "from optimum.habana.distributed import DistributedRunner\n",
    "from optimum.utils import logging\n",
    "\n",
    "world_size=8 # Number of HPUs to use (1 or 8)\n",
    "\n",
    "# define distributed runner\n",
    "distributed_runner = DistributedRunner(\n",
    "    command_list=[\"scripts/train.py --use_habana True\"],\n",
    "    world_size=world_size,\n",
    "    use_mpi=True,\n",
    "    multi_hls=False,\n",
    ")\n",
    "\n",
    "# start job\n",
    "ret_code = distributed_runner.run()"
   ]
  },
  {
   "cell_type": "markdown",
   "metadata": {},
   "source": [
    "## 5. Cost performance benefits of Habana Gaudi1 on AWS\n",
    "\n",
    "The distributed training on all 8x HPUs took in total 52 minutes. The [dl1.24xlarge](https://aws.amazon.com/ec2/instance-types/dl1/) instance on AWS costs $13.11 per hour leading to only $11,55 for our training. \n",
    "To provide a cost-performance comparison we run the same training on the AWS [p3.8xlarge](https://aws.amazon.com/ec2/instance-types/p3/?nc1=h_ls) instance, which costs roughly the same with $12.24, but only has 4x accelerators (4x NVIDIA V100). The training on the p3.8xlarge instance took in total about 439 minutes and cost $89.72.\n",
    "Meaning the Habana Gaudi instance is **8.4x faster** and **7.7x cheaper** than the price equivalent NVIDIA powered instance. \n",
    "Below is a detailed table of results. Additional both models are available on the Hugging Face Hub at [philschmid/habana-xlm-r-large-amazon-massive](https://huggingface.co/philschmid/habana-xlm-r-large-amazon-massive) and [philschmid/gpu-xlm-roberta-large-amazon-massive](https://huggingface.co/philschmid/gpu-xlm-roberta-large-amazon-massive)\n",
    "\n",
    "\n",
    "| accelerator        | training time (in minutes) | total cost | total batch size | aws instance type                                                    | instance price per hour |\n",
    "|--------------------|----------------------------|------------|------------------|----------------------------------------------------------------------|-------------------------|\n",
    "| Habana Gaudi (HPU) | 52.6                       | $11.55     | 64               | [dl1.24xlarge](https://aws.amazon.com/ec2/instance-types/dl1/)       | $13.11                  |\n",
    "| NVIDIA V100 (GPU)  |     439.8                       |  $89.72          |  4                | [p3.8xlarge](https://aws.amazon.com/ec2/instance-types/p3/?nc1=h_ls) | $12.24                  |\n",
    "\n",
    "\n",
    "_Note: This comparison currently provides a limited view, since the NVIDIA V100 might not be the best GPU available for training such a large transformer model resulting in a 8x smaller batch size. We plan to run a more detailed cost-performance benchmark including more instances, like NVIDIA A100 and more models, e.g. DistilBERT, GPT-2_\n",
    "\n",
    "## Conclusion\n",
    "\n",
    "That's it for this tutorial. Now you know how to fine-tune Hugging Face Transformers on Habana Gaudi using Optimum. You learned how easily you can migrate from a `Trainer` based script to a `GaudiTrainer` based script and how to scale the training to multiple HPUs using the `DistributedRunner`. \n",
    "\n",
    "Additionally, we run a simple cost performance benchmark acheiving **8.4x faster** and **7.7x cheaper** training on Habana Gaudi instance than on the price equivalent NVIDIA powered instance. \n",
    "\n",
    "Now it is time for you to migrate your training scripts!! \n"
   ]
  },
  {
   "cell_type": "markdown",
   "metadata": {},
   "source": []
  }
 ],
 "metadata": {
  "instance_type": "ml.t3.medium",
  "interpreter": {
   "hash": "31f2aee4e71d21fbe5cf8b01ff0e069b9275f58929596ceb00d14d90e3e16cd6"
  },
  "kernelspec": {
   "display_name": "Python 3 (ipykernel)",
   "language": "python",
   "name": "python3"
  },
  "language_info": {
   "codemirror_mode": {
    "name": "ipython",
    "version": 3
   },
   "file_extension": ".py",
   "mimetype": "text/x-python",
   "name": "python",
   "nbconvert_exporter": "python",
   "pygments_lexer": "ipython3",
   "version": "3.8.9"
  }
 },
 "nbformat": 4,
 "nbformat_minor": 4
}
